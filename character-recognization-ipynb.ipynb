{
 "cells": [
  {
   "cell_type": "code",
   "execution_count": 1,
   "metadata": {
    "_cell_guid": "b1076dfc-b9ad-4769-8c92-a6c4dae69d19",
    "_uuid": "8f2839f25d086af736a60e9eeb907d3b93b6e0e5",
    "execution": {
     "iopub.execute_input": "2021-09-03T17:38:33.080873Z",
     "iopub.status.busy": "2021-09-03T17:38:33.080452Z",
     "iopub.status.idle": "2021-09-03T17:38:33.105394Z",
     "shell.execute_reply": "2021-09-03T17:38:33.104202Z",
     "shell.execute_reply.started": "2021-09-03T17:38:33.080774Z"
    }
   },
   "outputs": [
    {
     "name": "stdout",
     "output_type": "stream",
     "text": [
      "/kaggle/input/az-handwritten-alphabets-in-csv-format/A_Z Handwritten Data.csv\n",
      "/kaggle/input/az-handwritten-alphabets-in-csv-format/A_Z Handwritten Data/A_Z Handwritten Data.csv\n"
     ]
    }
   ],
   "source": [
    "# This Python 3 environment comes with many helpful analytics libraries installed\n",
    "# It is defined by the kaggle/python Docker image: https://github.com/kaggle/docker-python\n",
    "# For example, here's several helpful packages to load\n",
    "\n",
    "import numpy as np # linear algebra\n",
    "import pandas as pd # data processing, CSV file I/O (e.g. pd.read_csv)\n",
    "\n",
    "# Input data fil.es are available in the read-only \"../input/\" directory\n",
    "# For example, running this (by clicking run or pressing Shift+Enter) will list all files under the input directory\n",
    "\n",
    "import os\n",
    "for dirname, _, filenames in os.walk('/kaggle/input'):\n",
    "    for filename in filenames:\n",
    "        print(os.path.join(dirname, filename))\n",
    "\n",
    "# You can write up to 20GB to the current directory (/kaggle/working/) that gets preserved as output when you create a version using \"Save & Run All\" \n",
    "# You can also write temporary files to /kaggle/temp/, but they won't be saved outside of the current session"
   ]
  },
  {
   "cell_type": "code",
   "execution_count": 2,
   "metadata": {
    "execution": {
     "iopub.execute_input": "2021-09-03T17:38:33.107120Z",
     "iopub.status.busy": "2021-09-03T17:38:33.106854Z",
     "iopub.status.idle": "2021-09-03T17:38:33.111040Z",
     "shell.execute_reply": "2021-09-03T17:38:33.109839Z",
     "shell.execute_reply.started": "2021-09-03T17:38:33.107092Z"
    }
   },
   "outputs": [],
   "source": [
    "# Import library\n",
    "import matplotlib.pyplot as plt"
   ]
  },
  {
   "cell_type": "code",
   "execution_count": 3,
   "metadata": {
    "execution": {
     "iopub.execute_input": "2021-09-03T17:38:33.113765Z",
     "iopub.status.busy": "2021-09-03T17:38:33.113355Z",
     "iopub.status.idle": "2021-09-03T17:39:02.296038Z",
     "shell.execute_reply": "2021-09-03T17:39:02.295204Z",
     "shell.execute_reply.started": "2021-09-03T17:38:33.113724Z"
    }
   },
   "outputs": [],
   "source": [
    "# Load dataset\n",
    "df = pd.read_csv(\"/kaggle/input/az-handwritten-alphabets-in-csv-format/A_Z Handwritten Data.csv\")\n"
   ]
  },
  {
   "cell_type": "code",
   "execution_count": 4,
   "metadata": {
    "execution": {
     "iopub.execute_input": "2021-09-03T17:39:02.297884Z",
     "iopub.status.busy": "2021-09-03T17:39:02.297549Z",
     "iopub.status.idle": "2021-09-03T17:39:02.329051Z",
     "shell.execute_reply": "2021-09-03T17:39:02.328153Z",
     "shell.execute_reply.started": "2021-09-03T17:39:02.297855Z"
    }
   },
   "outputs": [
    {
     "data": {
      "text/html": [
       "<div>\n",
       "<style scoped>\n",
       "    .dataframe tbody tr th:only-of-type {\n",
       "        vertical-align: middle;\n",
       "    }\n",
       "\n",
       "    .dataframe tbody tr th {\n",
       "        vertical-align: top;\n",
       "    }\n",
       "\n",
       "    .dataframe thead th {\n",
       "        text-align: right;\n",
       "    }\n",
       "</style>\n",
       "<table border=\"1\" class=\"dataframe\">\n",
       "  <thead>\n",
       "    <tr style=\"text-align: right;\">\n",
       "      <th></th>\n",
       "      <th>0</th>\n",
       "      <th>0.1</th>\n",
       "      <th>0.2</th>\n",
       "      <th>0.3</th>\n",
       "      <th>0.4</th>\n",
       "      <th>0.5</th>\n",
       "      <th>0.6</th>\n",
       "      <th>0.7</th>\n",
       "      <th>0.8</th>\n",
       "      <th>0.9</th>\n",
       "      <th>...</th>\n",
       "      <th>0.639</th>\n",
       "      <th>0.640</th>\n",
       "      <th>0.641</th>\n",
       "      <th>0.642</th>\n",
       "      <th>0.643</th>\n",
       "      <th>0.644</th>\n",
       "      <th>0.645</th>\n",
       "      <th>0.646</th>\n",
       "      <th>0.647</th>\n",
       "      <th>0.648</th>\n",
       "    </tr>\n",
       "  </thead>\n",
       "  <tbody>\n",
       "    <tr>\n",
       "      <th>0</th>\n",
       "      <td>0</td>\n",
       "      <td>0</td>\n",
       "      <td>0</td>\n",
       "      <td>0</td>\n",
       "      <td>0</td>\n",
       "      <td>0</td>\n",
       "      <td>0</td>\n",
       "      <td>0</td>\n",
       "      <td>0</td>\n",
       "      <td>0</td>\n",
       "      <td>...</td>\n",
       "      <td>0</td>\n",
       "      <td>0</td>\n",
       "      <td>0</td>\n",
       "      <td>0</td>\n",
       "      <td>0</td>\n",
       "      <td>0</td>\n",
       "      <td>0</td>\n",
       "      <td>0</td>\n",
       "      <td>0</td>\n",
       "      <td>0</td>\n",
       "    </tr>\n",
       "    <tr>\n",
       "      <th>1</th>\n",
       "      <td>0</td>\n",
       "      <td>0</td>\n",
       "      <td>0</td>\n",
       "      <td>0</td>\n",
       "      <td>0</td>\n",
       "      <td>0</td>\n",
       "      <td>0</td>\n",
       "      <td>0</td>\n",
       "      <td>0</td>\n",
       "      <td>0</td>\n",
       "      <td>...</td>\n",
       "      <td>0</td>\n",
       "      <td>0</td>\n",
       "      <td>0</td>\n",
       "      <td>0</td>\n",
       "      <td>0</td>\n",
       "      <td>0</td>\n",
       "      <td>0</td>\n",
       "      <td>0</td>\n",
       "      <td>0</td>\n",
       "      <td>0</td>\n",
       "    </tr>\n",
       "    <tr>\n",
       "      <th>2</th>\n",
       "      <td>0</td>\n",
       "      <td>0</td>\n",
       "      <td>0</td>\n",
       "      <td>0</td>\n",
       "      <td>0</td>\n",
       "      <td>0</td>\n",
       "      <td>0</td>\n",
       "      <td>0</td>\n",
       "      <td>0</td>\n",
       "      <td>0</td>\n",
       "      <td>...</td>\n",
       "      <td>0</td>\n",
       "      <td>0</td>\n",
       "      <td>0</td>\n",
       "      <td>0</td>\n",
       "      <td>0</td>\n",
       "      <td>0</td>\n",
       "      <td>0</td>\n",
       "      <td>0</td>\n",
       "      <td>0</td>\n",
       "      <td>0</td>\n",
       "    </tr>\n",
       "    <tr>\n",
       "      <th>3</th>\n",
       "      <td>0</td>\n",
       "      <td>0</td>\n",
       "      <td>0</td>\n",
       "      <td>0</td>\n",
       "      <td>0</td>\n",
       "      <td>0</td>\n",
       "      <td>0</td>\n",
       "      <td>0</td>\n",
       "      <td>0</td>\n",
       "      <td>0</td>\n",
       "      <td>...</td>\n",
       "      <td>0</td>\n",
       "      <td>0</td>\n",
       "      <td>0</td>\n",
       "      <td>0</td>\n",
       "      <td>0</td>\n",
       "      <td>0</td>\n",
       "      <td>0</td>\n",
       "      <td>0</td>\n",
       "      <td>0</td>\n",
       "      <td>0</td>\n",
       "    </tr>\n",
       "    <tr>\n",
       "      <th>4</th>\n",
       "      <td>0</td>\n",
       "      <td>0</td>\n",
       "      <td>0</td>\n",
       "      <td>0</td>\n",
       "      <td>0</td>\n",
       "      <td>0</td>\n",
       "      <td>0</td>\n",
       "      <td>0</td>\n",
       "      <td>0</td>\n",
       "      <td>0</td>\n",
       "      <td>...</td>\n",
       "      <td>0</td>\n",
       "      <td>0</td>\n",
       "      <td>0</td>\n",
       "      <td>0</td>\n",
       "      <td>0</td>\n",
       "      <td>0</td>\n",
       "      <td>0</td>\n",
       "      <td>0</td>\n",
       "      <td>0</td>\n",
       "      <td>0</td>\n",
       "    </tr>\n",
       "  </tbody>\n",
       "</table>\n",
       "<p>5 rows × 785 columns</p>\n",
       "</div>"
      ],
      "text/plain": [
       "   0  0.1  0.2  0.3  0.4  0.5  0.6  0.7  0.8  0.9  ...  0.639  0.640  0.641  \\\n",
       "0  0    0    0    0    0    0    0    0    0    0  ...      0      0      0   \n",
       "1  0    0    0    0    0    0    0    0    0    0  ...      0      0      0   \n",
       "2  0    0    0    0    0    0    0    0    0    0  ...      0      0      0   \n",
       "3  0    0    0    0    0    0    0    0    0    0  ...      0      0      0   \n",
       "4  0    0    0    0    0    0    0    0    0    0  ...      0      0      0   \n",
       "\n",
       "   0.642  0.643  0.644  0.645  0.646  0.647  0.648  \n",
       "0      0      0      0      0      0      0      0  \n",
       "1      0      0      0      0      0      0      0  \n",
       "2      0      0      0      0      0      0      0  \n",
       "3      0      0      0      0      0      0      0  \n",
       "4      0      0      0      0      0      0      0  \n",
       "\n",
       "[5 rows x 785 columns]"
      ]
     },
     "execution_count": 4,
     "metadata": {},
     "output_type": "execute_result"
    }
   ],
   "source": [
    "df.head()"
   ]
  },
  {
   "cell_type": "code",
   "execution_count": 5,
   "metadata": {
    "execution": {
     "iopub.execute_input": "2021-09-03T17:39:02.330479Z",
     "iopub.status.busy": "2021-09-03T17:39:02.330207Z",
     "iopub.status.idle": "2021-09-03T17:39:02.335950Z",
     "shell.execute_reply": "2021-09-03T17:39:02.334924Z",
     "shell.execute_reply.started": "2021-09-03T17:39:02.330451Z"
    }
   },
   "outputs": [
    {
     "data": {
      "text/plain": [
       "(372450, 785)"
      ]
     },
     "execution_count": 5,
     "metadata": {},
     "output_type": "execute_result"
    }
   ],
   "source": [
    "df.shape"
   ]
  },
  {
   "cell_type": "code",
   "execution_count": 6,
   "metadata": {
    "execution": {
     "iopub.execute_input": "2021-09-03T17:39:02.337741Z",
     "iopub.status.busy": "2021-09-03T17:39:02.337270Z",
     "iopub.status.idle": "2021-09-03T17:39:02.350352Z",
     "shell.execute_reply": "2021-09-03T17:39:02.349100Z",
     "shell.execute_reply.started": "2021-09-03T17:39:02.337710Z"
    }
   },
   "outputs": [],
   "source": [
    "df.rename(columns={'0':'label'}, inplace = True)"
   ]
  },
  {
   "cell_type": "code",
   "execution_count": 7,
   "metadata": {
    "execution": {
     "iopub.execute_input": "2021-09-03T17:39:02.352571Z",
     "iopub.status.busy": "2021-09-03T17:39:02.352086Z",
     "iopub.status.idle": "2021-09-03T17:39:10.870193Z",
     "shell.execute_reply": "2021-09-03T17:39:10.869295Z",
     "shell.execute_reply.started": "2021-09-03T17:39:02.352526Z"
    }
   },
   "outputs": [
    {
     "data": {
      "text/html": [
       "<div>\n",
       "<style scoped>\n",
       "    .dataframe tbody tr th:only-of-type {\n",
       "        vertical-align: middle;\n",
       "    }\n",
       "\n",
       "    .dataframe tbody tr th {\n",
       "        vertical-align: top;\n",
       "    }\n",
       "\n",
       "    .dataframe thead th {\n",
       "        text-align: right;\n",
       "    }\n",
       "</style>\n",
       "<table border=\"1\" class=\"dataframe\">\n",
       "  <thead>\n",
       "    <tr style=\"text-align: right;\">\n",
       "      <th></th>\n",
       "      <th>label</th>\n",
       "      <th>0.1</th>\n",
       "      <th>0.2</th>\n",
       "      <th>0.3</th>\n",
       "      <th>0.4</th>\n",
       "      <th>0.5</th>\n",
       "      <th>0.6</th>\n",
       "      <th>0.7</th>\n",
       "      <th>0.8</th>\n",
       "      <th>0.9</th>\n",
       "      <th>...</th>\n",
       "      <th>0.639</th>\n",
       "      <th>0.640</th>\n",
       "      <th>0.641</th>\n",
       "      <th>0.642</th>\n",
       "      <th>0.643</th>\n",
       "      <th>0.644</th>\n",
       "      <th>0.645</th>\n",
       "      <th>0.646</th>\n",
       "      <th>0.647</th>\n",
       "      <th>0.648</th>\n",
       "    </tr>\n",
       "  </thead>\n",
       "  <tbody>\n",
       "    <tr>\n",
       "      <th>count</th>\n",
       "      <td>372450.000000</td>\n",
       "      <td>372450.0</td>\n",
       "      <td>372450.0</td>\n",
       "      <td>372450.0</td>\n",
       "      <td>372450.0</td>\n",
       "      <td>372450.0</td>\n",
       "      <td>372450.0</td>\n",
       "      <td>372450.0</td>\n",
       "      <td>372450.0</td>\n",
       "      <td>372450.0</td>\n",
       "      <td>...</td>\n",
       "      <td>372450.000000</td>\n",
       "      <td>372450.000000</td>\n",
       "      <td>372450.000000</td>\n",
       "      <td>372450.000000</td>\n",
       "      <td>372450.000000</td>\n",
       "      <td>372450.000000</td>\n",
       "      <td>372450.000000</td>\n",
       "      <td>372450.000000</td>\n",
       "      <td>372450.000000</td>\n",
       "      <td>372450.000000</td>\n",
       "    </tr>\n",
       "    <tr>\n",
       "      <th>mean</th>\n",
       "      <td>13.523490</td>\n",
       "      <td>0.0</td>\n",
       "      <td>0.0</td>\n",
       "      <td>0.0</td>\n",
       "      <td>0.0</td>\n",
       "      <td>0.0</td>\n",
       "      <td>0.0</td>\n",
       "      <td>0.0</td>\n",
       "      <td>0.0</td>\n",
       "      <td>0.0</td>\n",
       "      <td>...</td>\n",
       "      <td>0.001616</td>\n",
       "      <td>0.001592</td>\n",
       "      <td>0.001117</td>\n",
       "      <td>0.000929</td>\n",
       "      <td>0.000685</td>\n",
       "      <td>0.000596</td>\n",
       "      <td>0.000618</td>\n",
       "      <td>0.000690</td>\n",
       "      <td>0.000239</td>\n",
       "      <td>0.000011</td>\n",
       "    </tr>\n",
       "    <tr>\n",
       "      <th>std</th>\n",
       "      <td>6.740824</td>\n",
       "      <td>0.0</td>\n",
       "      <td>0.0</td>\n",
       "      <td>0.0</td>\n",
       "      <td>0.0</td>\n",
       "      <td>0.0</td>\n",
       "      <td>0.0</td>\n",
       "      <td>0.0</td>\n",
       "      <td>0.0</td>\n",
       "      <td>0.0</td>\n",
       "      <td>...</td>\n",
       "      <td>0.490788</td>\n",
       "      <td>0.517297</td>\n",
       "      <td>0.421332</td>\n",
       "      <td>0.419180</td>\n",
       "      <td>0.385566</td>\n",
       "      <td>0.319820</td>\n",
       "      <td>0.208942</td>\n",
       "      <td>0.335227</td>\n",
       "      <td>0.134852</td>\n",
       "      <td>0.006554</td>\n",
       "    </tr>\n",
       "    <tr>\n",
       "      <th>min</th>\n",
       "      <td>0.000000</td>\n",
       "      <td>0.0</td>\n",
       "      <td>0.0</td>\n",
       "      <td>0.0</td>\n",
       "      <td>0.0</td>\n",
       "      <td>0.0</td>\n",
       "      <td>0.0</td>\n",
       "      <td>0.0</td>\n",
       "      <td>0.0</td>\n",
       "      <td>0.0</td>\n",
       "      <td>...</td>\n",
       "      <td>0.000000</td>\n",
       "      <td>0.000000</td>\n",
       "      <td>0.000000</td>\n",
       "      <td>0.000000</td>\n",
       "      <td>0.000000</td>\n",
       "      <td>0.000000</td>\n",
       "      <td>0.000000</td>\n",
       "      <td>0.000000</td>\n",
       "      <td>0.000000</td>\n",
       "      <td>0.000000</td>\n",
       "    </tr>\n",
       "    <tr>\n",
       "      <th>25%</th>\n",
       "      <td>10.000000</td>\n",
       "      <td>0.0</td>\n",
       "      <td>0.0</td>\n",
       "      <td>0.0</td>\n",
       "      <td>0.0</td>\n",
       "      <td>0.0</td>\n",
       "      <td>0.0</td>\n",
       "      <td>0.0</td>\n",
       "      <td>0.0</td>\n",
       "      <td>0.0</td>\n",
       "      <td>...</td>\n",
       "      <td>0.000000</td>\n",
       "      <td>0.000000</td>\n",
       "      <td>0.000000</td>\n",
       "      <td>0.000000</td>\n",
       "      <td>0.000000</td>\n",
       "      <td>0.000000</td>\n",
       "      <td>0.000000</td>\n",
       "      <td>0.000000</td>\n",
       "      <td>0.000000</td>\n",
       "      <td>0.000000</td>\n",
       "    </tr>\n",
       "    <tr>\n",
       "      <th>50%</th>\n",
       "      <td>14.000000</td>\n",
       "      <td>0.0</td>\n",
       "      <td>0.0</td>\n",
       "      <td>0.0</td>\n",
       "      <td>0.0</td>\n",
       "      <td>0.0</td>\n",
       "      <td>0.0</td>\n",
       "      <td>0.0</td>\n",
       "      <td>0.0</td>\n",
       "      <td>0.0</td>\n",
       "      <td>...</td>\n",
       "      <td>0.000000</td>\n",
       "      <td>0.000000</td>\n",
       "      <td>0.000000</td>\n",
       "      <td>0.000000</td>\n",
       "      <td>0.000000</td>\n",
       "      <td>0.000000</td>\n",
       "      <td>0.000000</td>\n",
       "      <td>0.000000</td>\n",
       "      <td>0.000000</td>\n",
       "      <td>0.000000</td>\n",
       "    </tr>\n",
       "    <tr>\n",
       "      <th>75%</th>\n",
       "      <td>18.000000</td>\n",
       "      <td>0.0</td>\n",
       "      <td>0.0</td>\n",
       "      <td>0.0</td>\n",
       "      <td>0.0</td>\n",
       "      <td>0.0</td>\n",
       "      <td>0.0</td>\n",
       "      <td>0.0</td>\n",
       "      <td>0.0</td>\n",
       "      <td>0.0</td>\n",
       "      <td>...</td>\n",
       "      <td>0.000000</td>\n",
       "      <td>0.000000</td>\n",
       "      <td>0.000000</td>\n",
       "      <td>0.000000</td>\n",
       "      <td>0.000000</td>\n",
       "      <td>0.000000</td>\n",
       "      <td>0.000000</td>\n",
       "      <td>0.000000</td>\n",
       "      <td>0.000000</td>\n",
       "      <td>0.000000</td>\n",
       "    </tr>\n",
       "    <tr>\n",
       "      <th>max</th>\n",
       "      <td>25.000000</td>\n",
       "      <td>0.0</td>\n",
       "      <td>0.0</td>\n",
       "      <td>0.0</td>\n",
       "      <td>0.0</td>\n",
       "      <td>0.0</td>\n",
       "      <td>0.0</td>\n",
       "      <td>0.0</td>\n",
       "      <td>0.0</td>\n",
       "      <td>0.0</td>\n",
       "      <td>...</td>\n",
       "      <td>252.000000</td>\n",
       "      <td>226.000000</td>\n",
       "      <td>229.000000</td>\n",
       "      <td>228.000000</td>\n",
       "      <td>235.000000</td>\n",
       "      <td>194.000000</td>\n",
       "      <td>103.000000</td>\n",
       "      <td>198.000000</td>\n",
       "      <td>82.000000</td>\n",
       "      <td>4.000000</td>\n",
       "    </tr>\n",
       "  </tbody>\n",
       "</table>\n",
       "<p>8 rows × 785 columns</p>\n",
       "</div>"
      ],
      "text/plain": [
       "               label       0.1       0.2       0.3       0.4       0.5  \\\n",
       "count  372450.000000  372450.0  372450.0  372450.0  372450.0  372450.0   \n",
       "mean       13.523490       0.0       0.0       0.0       0.0       0.0   \n",
       "std         6.740824       0.0       0.0       0.0       0.0       0.0   \n",
       "min         0.000000       0.0       0.0       0.0       0.0       0.0   \n",
       "25%        10.000000       0.0       0.0       0.0       0.0       0.0   \n",
       "50%        14.000000       0.0       0.0       0.0       0.0       0.0   \n",
       "75%        18.000000       0.0       0.0       0.0       0.0       0.0   \n",
       "max        25.000000       0.0       0.0       0.0       0.0       0.0   \n",
       "\n",
       "            0.6       0.7       0.8       0.9  ...          0.639  \\\n",
       "count  372450.0  372450.0  372450.0  372450.0  ...  372450.000000   \n",
       "mean        0.0       0.0       0.0       0.0  ...       0.001616   \n",
       "std         0.0       0.0       0.0       0.0  ...       0.490788   \n",
       "min         0.0       0.0       0.0       0.0  ...       0.000000   \n",
       "25%         0.0       0.0       0.0       0.0  ...       0.000000   \n",
       "50%         0.0       0.0       0.0       0.0  ...       0.000000   \n",
       "75%         0.0       0.0       0.0       0.0  ...       0.000000   \n",
       "max         0.0       0.0       0.0       0.0  ...     252.000000   \n",
       "\n",
       "               0.640          0.641          0.642          0.643  \\\n",
       "count  372450.000000  372450.000000  372450.000000  372450.000000   \n",
       "mean        0.001592       0.001117       0.000929       0.000685   \n",
       "std         0.517297       0.421332       0.419180       0.385566   \n",
       "min         0.000000       0.000000       0.000000       0.000000   \n",
       "25%         0.000000       0.000000       0.000000       0.000000   \n",
       "50%         0.000000       0.000000       0.000000       0.000000   \n",
       "75%         0.000000       0.000000       0.000000       0.000000   \n",
       "max       226.000000     229.000000     228.000000     235.000000   \n",
       "\n",
       "               0.644          0.645          0.646          0.647  \\\n",
       "count  372450.000000  372450.000000  372450.000000  372450.000000   \n",
       "mean        0.000596       0.000618       0.000690       0.000239   \n",
       "std         0.319820       0.208942       0.335227       0.134852   \n",
       "min         0.000000       0.000000       0.000000       0.000000   \n",
       "25%         0.000000       0.000000       0.000000       0.000000   \n",
       "50%         0.000000       0.000000       0.000000       0.000000   \n",
       "75%         0.000000       0.000000       0.000000       0.000000   \n",
       "max       194.000000     103.000000     198.000000      82.000000   \n",
       "\n",
       "               0.648  \n",
       "count  372450.000000  \n",
       "mean        0.000011  \n",
       "std         0.006554  \n",
       "min         0.000000  \n",
       "25%         0.000000  \n",
       "50%         0.000000  \n",
       "75%         0.000000  \n",
       "max         4.000000  \n",
       "\n",
       "[8 rows x 785 columns]"
      ]
     },
     "execution_count": 7,
     "metadata": {},
     "output_type": "execute_result"
    }
   ],
   "source": [
    "df.describe()"
   ]
  },
  {
   "cell_type": "code",
   "execution_count": 8,
   "metadata": {
    "execution": {
     "iopub.execute_input": "2021-09-03T17:39:10.871622Z",
     "iopub.status.busy": "2021-09-03T17:39:10.871334Z",
     "iopub.status.idle": "2021-09-03T17:39:10.875873Z",
     "shell.execute_reply": "2021-09-03T17:39:10.875099Z",
     "shell.execute_reply.started": "2021-09-03T17:39:10.871581Z"
    }
   },
   "outputs": [],
   "source": [
    "def print_character(index):\n",
    "    row=df.iloc[index][1:]\n",
    "    img = np.array(row). reshape(28,28)\n",
    "    plt.imshow(img)\n",
    "    print ('Label:',df.iloc[index][0])"
   ]
  },
  {
   "cell_type": "code",
   "execution_count": 9,
   "metadata": {
    "execution": {
     "iopub.execute_input": "2021-09-03T17:39:10.878532Z",
     "iopub.status.busy": "2021-09-03T17:39:10.878058Z",
     "iopub.status.idle": "2021-09-03T17:39:11.051453Z",
     "shell.execute_reply": "2021-09-03T17:39:11.050679Z",
     "shell.execute_reply.started": "2021-09-03T17:39:10.878500Z"
    }
   },
   "outputs": [
    {
     "name": "stdout",
     "output_type": "stream",
     "text": [
      "Label: 0\n"
     ]
    },
    {
     "data": {
      "image/png": "[encoded data removed]",
      "text/plain": [
       "<Figure size 432x288 with 1 Axes>"
      ]
     },
     "metadata": {
      "needs_background": "light"
     },
     "output_type": "display_data"
    }
   ],
   "source": [
    "print_character(0)"
   ]
  },
  {
   "cell_type": "code",
   "execution_count": 10,
   "metadata": {
    "execution": {
     "iopub.execute_input": "2021-09-03T17:39:11.053326Z",
     "iopub.status.busy": "2021-09-03T17:39:11.053053Z",
     "iopub.status.idle": "2021-09-03T17:39:11.737351Z",
     "shell.execute_reply": "2021-09-03T17:39:11.736442Z",
     "shell.execute_reply.started": "2021-09-03T17:39:11.053299Z"
    }
   },
   "outputs": [],
   "source": [
    "X=df.drop('label',axis=1)\n",
    "y=df['label']"
   ]
  },
  {
   "cell_type": "code",
   "execution_count": 11,
   "metadata": {
    "execution": {
     "iopub.execute_input": "2021-09-03T17:39:11.738725Z",
     "iopub.status.busy": "2021-09-03T17:39:11.738439Z",
     "iopub.status.idle": "2021-09-03T17:39:11.743514Z",
     "shell.execute_reply": "2021-09-03T17:39:11.742449Z",
     "shell.execute_reply.started": "2021-09-03T17:39:11.738699Z"
    }
   },
   "outputs": [
    {
     "name": "stdout",
     "output_type": "stream",
     "text": [
      "(372450, 784)\n",
      "(372450,)\n"
     ]
    }
   ],
   "source": [
    "print(X.shape)\n",
    "print (y.shape)"
   ]
  },
  {
   "cell_type": "code",
   "execution_count": 12,
   "metadata": {
    "execution": {
     "iopub.execute_input": "2021-09-03T17:39:11.745083Z",
     "iopub.status.busy": "2021-09-03T17:39:11.744707Z",
     "iopub.status.idle": "2021-09-03T17:39:15.550626Z",
     "shell.execute_reply": "2021-09-03T17:39:15.549800Z",
     "shell.execute_reply.started": "2021-09-03T17:39:11.745043Z"
    }
   },
   "outputs": [],
   "source": [
    "#Split data\n",
    "from sklearn.model_selection import train_test_split\n",
    "X_train,X_test,y_train,y_test=train_test_split(X,y,test_size=0.2, random_state=100)"
   ]
  },
  {
   "cell_type": "code",
   "execution_count": 13,
   "metadata": {
    "execution": {
     "iopub.execute_input": "2021-09-03T17:39:15.552343Z",
     "iopub.status.busy": "2021-09-03T17:39:15.551855Z",
     "iopub.status.idle": "2021-09-03T17:39:15.557613Z",
     "shell.execute_reply": "2021-09-03T17:39:15.556627Z",
     "shell.execute_reply.started": "2021-09-03T17:39:15.552311Z"
    }
   },
   "outputs": [
    {
     "data": {
      "text/plain": [
       "((297960, 784), (74490, 784))"
      ]
     },
     "execution_count": 13,
     "metadata": {},
     "output_type": "execute_result"
    }
   ],
   "source": [
    "X_train.shape,X_test.shape"
   ]
  },
  {
   "cell_type": "code",
   "execution_count": 14,
   "metadata": {
    "execution": {
     "iopub.execute_input": "2021-09-03T17:39:15.559040Z",
     "iopub.status.busy": "2021-09-03T17:39:15.558689Z",
     "iopub.status.idle": "2021-09-03T17:39:15.568871Z",
     "shell.execute_reply": "2021-09-03T17:39:15.568058Z",
     "shell.execute_reply.started": "2021-09-03T17:39:15.559013Z"
    }
   },
   "outputs": [],
   "source": [
    "#scaling\n",
    "from sklearn.preprocessing import MinMaxScaler"
   ]
  },
  {
   "cell_type": "code",
   "execution_count": 15,
   "metadata": {
    "execution": {
     "iopub.execute_input": "2021-09-03T17:39:15.570577Z",
     "iopub.status.busy": "2021-09-03T17:39:15.570287Z",
     "iopub.status.idle": "2021-09-03T17:39:18.384142Z",
     "shell.execute_reply": "2021-09-03T17:39:18.383269Z",
     "shell.execute_reply.started": "2021-09-03T17:39:15.570552Z"
    }
   },
   "outputs": [],
   "source": [
    "scaler = MinMaxScaler ()\n",
    "scaler.fit(X_train)\n",
    "X_train_scaled=scaler.transform(X_train)\n",
    "X_test_scaled=scaler.transform(X_test)"
   ]
  },
  {
   "cell_type": "code",
   "execution_count": 16,
   "metadata": {
    "execution": {
     "iopub.execute_input": "2021-09-03T17:39:18.385507Z",
     "iopub.status.busy": "2021-09-03T17:39:18.385236Z",
     "iopub.status.idle": "2021-09-03T17:39:18.393197Z",
     "shell.execute_reply": "2021-09-03T17:39:18.392168Z",
     "shell.execute_reply.started": "2021-09-03T17:39:18.385479Z"
    }
   },
   "outputs": [
    {
     "data": {
      "text/plain": [
       "((297960, 784), (74490, 784))"
      ]
     },
     "execution_count": 16,
     "metadata": {},
     "output_type": "execute_result"
    }
   ],
   "source": [
    "X_train_scaled.shape,X_test_scaled.shape"
   ]
  },
  {
   "cell_type": "code",
   "execution_count": 17,
   "metadata": {
    "execution": {
     "iopub.execute_input": "2021-09-03T17:39:18.394478Z",
     "iopub.status.busy": "2021-09-03T17:39:18.394217Z",
     "iopub.status.idle": "2021-09-03T17:39:23.726423Z",
     "shell.execute_reply": "2021-09-03T17:39:23.725456Z",
     "shell.execute_reply.started": "2021-09-03T17:39:18.394433Z"
    }
   },
   "outputs": [],
   "source": [
    "#y_processing (one hot encoding)\n",
    "from tensorflow.keras.utils import to_categorical\n",
    "y_train= to_categorical(y_train,num_classes=26)\n",
    "y_test=to_categorical(y_test,num_classes=26)"
   ]
  },
  {
   "cell_type": "markdown",
   "metadata": {},
   "source": []
  },
  {
   "cell_type": "code",
   "execution_count": 18,
   "metadata": {
    "execution": {
     "iopub.execute_input": "2021-09-03T17:39:23.728303Z",
     "iopub.status.busy": "2021-09-03T17:39:23.727906Z",
     "iopub.status.idle": "2021-09-03T17:39:23.736483Z",
     "shell.execute_reply": "2021-09-03T17:39:23.735499Z",
     "shell.execute_reply.started": "2021-09-03T17:39:23.728260Z"
    }
   },
   "outputs": [
    {
     "data": {
      "text/plain": [
       "array([[0., 0., 0., 0., 0., 0., 0., 0., 0., 0., 0., 0., 1., 0., 0., 0.,\n",
       "        0., 0., 0., 0., 0., 0., 0., 0., 0., 0.],\n",
       "       [0., 0., 1., 0., 0., 0., 0., 0., 0., 0., 0., 0., 0., 0., 0., 0.,\n",
       "        0., 0., 0., 0., 0., 0., 0., 0., 0., 0.],\n",
       "       [0., 0., 0., 0., 0., 0., 0., 0., 0., 0., 0., 0., 0., 0., 0., 0.,\n",
       "        0., 0., 0., 0., 1., 0., 0., 0., 0., 0.],\n",
       "       [0., 0., 0., 0., 0., 0., 0., 0., 0., 0., 0., 0., 0., 0., 0., 0.,\n",
       "        0., 0., 0., 1., 0., 0., 0., 0., 0., 0.],\n",
       "       [0., 0., 0., 0., 0., 0., 0., 0., 0., 0., 0., 0., 0., 0., 0., 0.,\n",
       "        0., 0., 1., 0., 0., 0., 0., 0., 0., 0.]], dtype=float32)"
      ]
     },
     "execution_count": 18,
     "metadata": {},
     "output_type": "execute_result"
    }
   ],
   "source": [
    "y_train[:5,:]"
   ]
  },
  {
   "cell_type": "code",
   "execution_count": 19,
   "metadata": {
    "execution": {
     "iopub.execute_input": "2021-09-03T17:39:23.738150Z",
     "iopub.status.busy": "2021-09-03T17:39:23.737863Z",
     "iopub.status.idle": "2021-09-03T17:39:23.751570Z",
     "shell.execute_reply": "2021-09-03T17:39:23.750828Z",
     "shell.execute_reply.started": "2021-09-03T17:39:23.738122Z"
    }
   },
   "outputs": [],
   "source": [
    "# model building\n",
    "from tensorflow.keras.models import Sequential\n",
    "from tensorflow.keras.layers import Dense"
   ]
  },
  {
   "cell_type": "code",
   "execution_count": 20,
   "metadata": {
    "execution": {
     "iopub.execute_input": "2021-09-03T17:39:23.753282Z",
     "iopub.status.busy": "2021-09-03T17:39:23.752748Z",
     "iopub.status.idle": "2021-09-03T17:39:23.854483Z",
     "shell.execute_reply": "2021-09-03T17:39:23.853523Z",
     "shell.execute_reply.started": "2021-09-03T17:39:23.753241Z"
    }
   },
   "outputs": [],
   "source": [
    "model=Sequential ()\n",
    "model.add(Dense (100, activation='relu', input_shape=(784,)))\n",
    "model.add(Dense(100,activation = 'relu'))\n",
    "model.add(Dense(26, activation='softmax'))"
   ]
  },
  {
   "cell_type": "code",
   "execution_count": 21,
   "metadata": {
    "execution": {
     "iopub.execute_input": "2021-09-03T17:39:23.855938Z",
     "iopub.status.busy": "2021-09-03T17:39:23.855659Z",
     "iopub.status.idle": "2021-09-03T17:39:23.863139Z",
     "shell.execute_reply": "2021-09-03T17:39:23.862434Z",
     "shell.execute_reply.started": "2021-09-03T17:39:23.855911Z"
    }
   },
   "outputs": [
    {
     "name": "stdout",
     "output_type": "stream",
     "text": [
      "Model: \"sequential\"\n",
      "_________________________________________________________________\n",
      "Layer (type)                 Output Shape              Param #   \n",
      "=================================================================\n",
      "dense (Dense)                (None, 100)               78500     \n",
      "_________________________________________________________________\n",
      "dense_1 (Dense)              (None, 100)               10100     \n",
      "_________________________________________________________________\n",
      "dense_2 (Dense)              (None, 26)                2626      \n",
      "=================================================================\n",
      "Total params: 91,226\n",
      "Trainable params: 91,226\n",
      "Non-trainable params: 0\n",
      "_________________________________________________________________\n"
     ]
    }
   ],
   "source": [
    "model.summary()"
   ]
  },
  {
   "cell_type": "code",
   "execution_count": 22,
   "metadata": {
    "execution": {
     "iopub.execute_input": "2021-09-03T17:39:23.864707Z",
     "iopub.status.busy": "2021-09-03T17:39:23.864261Z",
     "iopub.status.idle": "2021-09-03T17:39:23.885313Z",
     "shell.execute_reply": "2021-09-03T17:39:23.884160Z",
     "shell.execute_reply.started": "2021-09-03T17:39:23.864674Z"
    }
   },
   "outputs": [],
   "source": [
    "model.compile(loss='categorical_crossentropy', metrics=['accuracy'])"
   ]
  },
  {
   "cell_type": "code",
   "execution_count": 23,
   "metadata": {
    "execution": {
     "iopub.execute_input": "2021-09-03T17:39:23.887169Z",
     "iopub.status.busy": "2021-09-03T17:39:23.886700Z",
     "iopub.status.idle": "2021-09-03T17:40:24.989685Z",
     "shell.execute_reply": "2021-09-03T17:40:24.988499Z",
     "shell.execute_reply.started": "2021-09-03T17:39:23.887131Z"
    }
   },
   "outputs": [
    {
     "name": "stdout",
     "output_type": "stream",
     "text": [
      "Epoch 1/10\n",
      "2328/2328 [==============================] - 6s 2ms/step - loss: 0.5919 - accuracy: 0.8389\n",
      "Epoch 2/10\n",
      "2328/2328 [==============================] - 6s 2ms/step - loss: 0.1482 - accuracy: 0.9583\n",
      "Epoch 3/10\n",
      "2328/2328 [==============================] - 6s 3ms/step - loss: 0.1086 - accuracy: 0.9690\n",
      "Epoch 4/10\n",
      "2328/2328 [==============================] - 6s 2ms/step - loss: 0.0906 - accuracy: 0.9748\n",
      "Epoch 5/10\n",
      "2328/2328 [==============================] - 6s 3ms/step - loss: 0.0801 - accuracy: 0.9778\n",
      "Epoch 6/10\n",
      "2328/2328 [==============================] - 6s 2ms/step - loss: 0.0716 - accuracy: 0.9799\n",
      "Epoch 7/10\n",
      "2328/2328 [==============================] - 6s 3ms/step - loss: 0.0635 - accuracy: 0.9819\n",
      "Epoch 8/10\n",
      "2328/2328 [==============================] - 6s 2ms/step - loss: 0.0601 - accuracy: 0.9833\n",
      "Epoch 9/10\n",
      "2328/2328 [==============================] - 6s 2ms/step - loss: 0.0531 - accuracy: 0.9850\n",
      "Epoch 10/10\n",
      "2328/2328 [==============================] - 6s 3ms/step - loss: 0.0510 - accuracy: 0.9857\n"
     ]
    },
    {
     "data": {
      "text/plain": [
       "<tensorflow.python.keras.callbacks.History at 0x7f2940f09810>"
      ]
     },
     "execution_count": 23,
     "metadata": {},
     "output_type": "execute_result"
    }
   ],
   "source": [
    "model.fit(X_train_scaled,y_train,batch_size=128, epochs=10)"
   ]
  },
  {
   "cell_type": "markdown",
   "metadata": {},
   "source": []
  },
  {
   "cell_type": "code",
   "execution_count": 24,
   "metadata": {
    "execution": {
     "iopub.execute_input": "2021-09-03T17:40:24.993348Z",
     "iopub.status.busy": "2021-09-03T17:40:24.993024Z",
     "iopub.status.idle": "2021-09-03T17:40:24.997565Z",
     "shell.execute_reply": "2021-09-03T17:40:24.996845Z",
     "shell.execute_reply.started": "2021-09-03T17:40:24.993316Z"
    }
   },
   "outputs": [],
   "source": [
    "# To predict for the given image\n",
    "img0=np.array(X_train_scaled[0]).reshape(1,784)\n"
   ]
  },
  {
   "cell_type": "code",
   "execution_count": 25,
   "metadata": {
    "execution": {
     "iopub.execute_input": "2021-09-03T17:40:24.999190Z",
     "iopub.status.busy": "2021-09-03T17:40:24.998730Z",
     "iopub.status.idle": "2021-09-03T17:40:25.128100Z",
     "shell.execute_reply": "2021-09-03T17:40:25.127161Z",
     "shell.execute_reply.started": "2021-09-03T17:40:24.999160Z"
    }
   },
   "outputs": [
    {
     "data": {
      "text/plain": [
       "12"
      ]
     },
     "execution_count": 25,
     "metadata": {},
     "output_type": "execute_result"
    }
   ],
   "source": [
    "model.predict(img0).argmax()"
   ]
  },
  {
   "cell_type": "code",
   "execution_count": 26,
   "metadata": {
    "execution": {
     "iopub.execute_input": "2021-09-03T17:40:25.130004Z",
     "iopub.status.busy": "2021-09-03T17:40:25.129361Z",
     "iopub.status.idle": "2021-09-03T17:40:25.137485Z",
     "shell.execute_reply": "2021-09-03T17:40:25.136513Z",
     "shell.execute_reply.started": "2021-09-03T17:40:25.129962Z"
    }
   },
   "outputs": [
    {
     "data": {
      "text/plain": [
       "12"
      ]
     },
     "execution_count": 26,
     "metadata": {},
     "output_type": "execute_result"
    }
   ],
   "source": [
    "y_train[0].argmax()"
   ]
  },
  {
   "cell_type": "code",
   "execution_count": 27,
   "metadata": {
    "execution": {
     "iopub.execute_input": "2021-09-03T17:40:25.142459Z",
     "iopub.status.busy": "2021-09-03T17:40:25.142110Z",
     "iopub.status.idle": "2021-09-03T17:40:25.147253Z",
     "shell.execute_reply": "2021-09-03T17:40:25.146177Z",
     "shell.execute_reply.started": "2021-09-03T17:40:25.142430Z"
    }
   },
   "outputs": [],
   "source": [
    "def recognise(img):\n",
    "    img=np.array(img).reshape(1,784)\n",
    "    return model.predict(img).argmax()"
   ]
  },
  {
   "cell_type": "code",
   "execution_count": 28,
   "metadata": {
    "execution": {
     "iopub.execute_input": "2021-09-03T17:40:25.148940Z",
     "iopub.status.busy": "2021-09-03T17:40:25.148492Z",
     "iopub.status.idle": "2021-09-03T17:40:27.149089Z",
     "shell.execute_reply": "2021-09-03T17:40:27.148238Z",
     "shell.execute_reply.started": "2021-09-03T17:40:25.148905Z"
    }
   },
   "outputs": [],
   "source": [
    "y_pre=model.predict(X_test_scaled).argmax(axis=1)"
   ]
  },
  {
   "cell_type": "code",
   "execution_count": 29,
   "metadata": {
    "execution": {
     "iopub.execute_input": "2021-09-03T17:40:27.150821Z",
     "iopub.status.busy": "2021-09-03T17:40:27.150422Z",
     "iopub.status.idle": "2021-09-03T17:40:27.156098Z",
     "shell.execute_reply": "2021-09-03T17:40:27.155451Z",
     "shell.execute_reply.started": "2021-09-03T17:40:27.150782Z"
    }
   },
   "outputs": [
    {
     "data": {
      "text/plain": [
       "array([13, 14,  9, ...,  2,  3, 15])"
      ]
     },
     "execution_count": 29,
     "metadata": {},
     "output_type": "execute_result"
    }
   ],
   "source": [
    "y_pre"
   ]
  },
  {
   "cell_type": "code",
   "execution_count": 30,
   "metadata": {
    "execution": {
     "iopub.execute_input": "2021-09-03T17:40:27.157439Z",
     "iopub.status.busy": "2021-09-03T17:40:27.157047Z",
     "iopub.status.idle": "2021-09-03T17:40:27.168800Z",
     "shell.execute_reply": "2021-09-03T17:40:27.167879Z",
     "shell.execute_reply.started": "2021-09-03T17:40:27.157399Z"
    }
   },
   "outputs": [
    {
     "data": {
      "text/plain": [
       "74490"
      ]
     },
     "execution_count": 30,
     "metadata": {},
     "output_type": "execute_result"
    }
   ],
   "source": [
    "len(y_pre)"
   ]
  },
  {
   "cell_type": "code",
   "execution_count": 31,
   "metadata": {
    "execution": {
     "iopub.execute_input": "2021-09-03T17:40:27.170293Z",
     "iopub.status.busy": "2021-09-03T17:40:27.170014Z",
     "iopub.status.idle": "2021-09-03T17:40:27.188093Z",
     "shell.execute_reply": "2021-09-03T17:40:27.187113Z",
     "shell.execute_reply.started": "2021-09-03T17:40:27.170268Z"
    }
   },
   "outputs": [
    {
     "data": {
      "text/plain": [
       "array([13, 14,  9, ...,  2,  3, 15])"
      ]
     },
     "execution_count": 31,
     "metadata": {},
     "output_type": "execute_result"
    }
   ],
   "source": [
    "y_test.argmax(axis=1)"
   ]
  },
  {
   "cell_type": "code",
   "execution_count": 32,
   "metadata": {
    "execution": {
     "iopub.execute_input": "2021-09-03T17:40:27.189966Z",
     "iopub.status.busy": "2021-09-03T17:40:27.189524Z",
     "iopub.status.idle": "2021-09-03T17:40:27.375881Z",
     "shell.execute_reply": "2021-09-03T17:40:27.374986Z",
     "shell.execute_reply.started": "2021-09-03T17:40:27.189923Z"
    }
   },
   "outputs": [
    {
     "data": {
      "text/plain": [
       "72998"
      ]
     },
     "execution_count": 32,
     "metadata": {},
     "output_type": "execute_result"
    }
   ],
   "source": [
    "sum(y_pre==y_test.argmax(axis=1))"
   ]
  },
  {
   "cell_type": "code",
   "execution_count": 35,
   "metadata": {
    "execution": {
     "iopub.execute_input": "2021-09-03T17:40:57.250375Z",
     "iopub.status.busy": "2021-09-03T17:40:57.250007Z",
     "iopub.status.idle": "2021-09-03T17:40:57.256428Z",
     "shell.execute_reply": "2021-09-03T17:40:57.255228Z",
     "shell.execute_reply.started": "2021-09-03T17:40:57.250344Z"
    }
   },
   "outputs": [
    {
     "data": {
      "text/plain": [
       "0.9799704658343402"
      ]
     },
     "execution_count": 35,
     "metadata": {},
     "output_type": "execute_result"
    }
   ],
   "source": [
    "72998/74490"
   ]
  },
  {
   "cell_type": "code",
   "execution_count": 36,
   "metadata": {
    "execution": {
     "iopub.execute_input": "2021-09-03T17:41:04.038937Z",
     "iopub.status.busy": "2021-09-03T17:41:04.038503Z",
     "iopub.status.idle": "2021-09-03T17:41:04.174454Z",
     "shell.execute_reply": "2021-09-03T17:41:04.173247Z",
     "shell.execute_reply.started": "2021-09-03T17:41:04.038901Z"
    }
   },
   "outputs": [
    {
     "data": {
      "text/plain": [
       "<matplotlib.image.AxesImage at 0x7f291df18590>"
      ]
     },
     "execution_count": 36,
     "metadata": {},
     "output_type": "execute_result"
    },
    {
     "data": {
      "image/png": "[encoded data removed]",
      "text/plain": [
       "<Figure size 432x288 with 1 Axes>"
      ]
     },
     "metadata": {
      "needs_background": "light"
     },
     "output_type": "display_data"
    }
   ],
   "source": [
    "plt.imshow(np.array(X_test_scaled[1000]).reshape(28,28))"
   ]
  },
  {
   "cell_type": "code",
   "execution_count": null,
   "metadata": {},
   "outputs": [],
   "source": []
  }
 ],
 "metadata": {
  "kernelspec": {
   "display_name": "Python 3",
   "language": "python",
   "name": "python3"
  },
  "language_info": {
   "codemirror_mode": {
    "name": "ipython",
    "version": 3
   },
   "file_extension": ".py",
   "mimetype": "text/x-python",
   "name": "python",
   "nbconvert_exporter": "python",
   "pygments_lexer": "ipython3",
   "version": "3.8.8"
  }
 },
 "nbformat": 4,
 "nbformat_minor": 4
}
